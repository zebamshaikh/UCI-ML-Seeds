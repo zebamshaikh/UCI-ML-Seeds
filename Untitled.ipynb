{
 "cells": [
  {
   "cell_type": "code",
   "execution_count": 7,
   "metadata": {},
   "outputs": [
    {
     "name": "stdout",
     "output_type": "stream",
     "text": [
      "Collecting pocketsphinx\n",
      "  Using cached https://files.pythonhosted.org/packages/93/5f/a968e5d53d25e32deb78c3e169fd8612ecf53cc76e32cb40e19be35696af/pocketsphinx-0.1.3.tar.bz2\n",
      "Building wheels for collected packages: pocketsphinx\n",
      "  Running setup.py bdist_wheel for pocketsphinx ... \u001b[?25lerror\n",
      "  Complete output from command /opt/conda/bin/python -u -c \"import setuptools, tokenize;__file__='/tmp/pip-build-q6wgo40r/pocketsphinx/setup.py';f=getattr(tokenize, 'open', open)(__file__);code=f.read().replace('\\r\\n', '\\n');f.close();exec(compile(code, __file__, 'exec'))\" bdist_wheel -d /tmp/tmpgqn9ysavpip-wheel- --python-tag cp36:\n",
      "  running bdist_wheel\n",
      "  running build_ext\n",
      "  building 'sphinxbase._ad' extension\n",
      "  swigging swig/sphinxbase/ad.i to swig/sphinxbase/ad_wrap.c\n",
      "  swig -python -modern -Ideps/sphinxbase/include -Ideps/sphinxbase/include/sphinxbase -Ideps/sphinxbase/include/android -Ideps/sphinxbase/swig -outdir sphinxbase -o swig/sphinxbase/ad_wrap.c swig/sphinxbase/ad.i\n",
      "  unable to execute 'swig': No such file or directory\n",
      "  error: command 'swig' failed with exit status 1\n",
      "  \n",
      "  ----------------------------------------\n",
      "\u001b[31m  Failed building wheel for pocketsphinx\u001b[0m\n",
      "\u001b[?25h  Running setup.py clean for pocketsphinx\n",
      "Failed to build pocketsphinx\n",
      "Installing collected packages: pocketsphinx\n",
      "  Running setup.py install for pocketsphinx ... \u001b[?25lerror\n",
      "    Complete output from command /opt/conda/bin/python -u -c \"import setuptools, tokenize;__file__='/tmp/pip-build-q6wgo40r/pocketsphinx/setup.py';f=getattr(tokenize, 'open', open)(__file__);code=f.read().replace('\\r\\n', '\\n');f.close();exec(compile(code, __file__, 'exec'))\" install --record /tmp/pip-uupo5bw6-record/install-record.txt --single-version-externally-managed --compile:\n",
      "    running install\n",
      "    running build_ext\n",
      "    building 'sphinxbase._ad' extension\n",
      "    swigging swig/sphinxbase/ad.i to swig/sphinxbase/ad_wrap.c\n",
      "    swig -python -modern -Ideps/sphinxbase/include -Ideps/sphinxbase/include/sphinxbase -Ideps/sphinxbase/include/android -Ideps/sphinxbase/swig -outdir sphinxbase -o swig/sphinxbase/ad_wrap.c swig/sphinxbase/ad.i\n",
      "    unable to execute 'swig': No such file or directory\n",
      "    error: command 'swig' failed with exit status 1\n",
      "    \n",
      "    ----------------------------------------\n",
      "\u001b[31mCommand \"/opt/conda/bin/python -u -c \"import setuptools, tokenize;__file__='/tmp/pip-build-q6wgo40r/pocketsphinx/setup.py';f=getattr(tokenize, 'open', open)(__file__);code=f.read().replace('\\r\\n', '\\n');f.close();exec(compile(code, __file__, 'exec'))\" install --record /tmp/pip-uupo5bw6-record/install-record.txt --single-version-externally-managed --compile\" failed with error code 1 in /tmp/pip-build-q6wgo40r/pocketsphinx/\u001b[0m\n",
      "\u001b[33mYou are using pip version 9.0.1, however version 10.0.1 is available.\n",
      "You should consider upgrading via the 'pip install --upgrade pip' command.\u001b[0m\n",
      "\u001b[?25h"
     ]
    }
   ],
   "source": [
    "!pip install pocketsphinx"
   ]
  },
  {
   "cell_type": "code",
   "execution_count": 6,
   "metadata": {},
   "outputs": [
    {
     "ename": "ModuleNotFoundError",
     "evalue": "No module named 'pocketsphinx'",
     "output_type": "error",
     "traceback": [
      "\u001b[0;31m---------------------------------------------------------------------------\u001b[0m",
      "\u001b[0;31mModuleNotFoundError\u001b[0m                       Traceback (most recent call last)",
      "\u001b[0;32m<ipython-input-6-0b93a576a228>\u001b[0m in \u001b[0;36m<module>\u001b[0;34m()\u001b[0m\n\u001b[0;32m----> 1\u001b[0;31m \u001b[0;32mfrom\u001b[0m \u001b[0mpocketsphinx\u001b[0m \u001b[0;32mimport\u001b[0m \u001b[0mcmu_sphinx\u001b[0m\u001b[0;34m\u001b[0m\u001b[0m\n\u001b[0m\u001b[1;32m      2\u001b[0m \u001b[0maudio_URL\u001b[0m \u001b[0;34m=\u001b[0m \u001b[0;34m'https://archive.org/details/testmp3testfile'\u001b[0m\u001b[0;34m\u001b[0m\u001b[0m\n\u001b[1;32m      3\u001b[0m \u001b[0mtranscriber\u001b[0m\u001b[0;34m=\u001b[0m\u001b[0mcmu_sphinx\u001b[0m\u001b[0;34m.\u001b[0m\u001b[0mtranscriber\u001b[0m\u001b[0;34m(\u001b[0m\u001b[0maudio_URL\u001b[0m\u001b[0;34m)\u001b[0m\u001b[0;34m\u001b[0m\u001b[0m\n\u001b[1;32m      4\u001b[0m \u001b[0;32mfor\u001b[0m \u001b[0mline\u001b[0m \u001b[0;32min\u001b[0m \u001b[0mtranscriber\u001b[0m\u001b[0;34m.\u001b[0m\u001b[0mtrascript_stream\u001b[0m\u001b[0;34m(\u001b[0m\u001b[0;34m)\u001b[0m\u001b[0;34m:\u001b[0m\u001b[0;34m\u001b[0m\u001b[0m\n\u001b[1;32m      5\u001b[0m     \u001b[0mprint\u001b[0m\u001b[0;34m(\u001b[0m\u001b[0mline\u001b[0m\u001b[0;34m)\u001b[0m\u001b[0;34m\u001b[0m\u001b[0m\n",
      "\u001b[0;31mModuleNotFoundError\u001b[0m: No module named 'pocketsphinx'"
     ]
    }
   ],
   "source": [
    "from pocketsphinx import cmu_sphinx\n",
    "audio_URL = 'https://archive.org/details/testmp3testfile'\n",
    "transcriber=cmu_sphinx.transcriber(audio_URL)\n",
    "for line in transcriber.trascript_stream():\n",
    "    print(line)"
   ]
  },
  {
   "cell_type": "code",
   "execution_count": 4,
   "metadata": {},
   "outputs": [
    {
     "name": "stdout",
     "output_type": "stream",
     "text": [
      "Collecting pocketsphinx\n",
      "  Downloading https://files.pythonhosted.org/packages/93/5f/a968e5d53d25e32deb78c3e169fd8612ecf53cc76e32cb40e19be35696af/pocketsphinx-0.1.3.tar.bz2 (29.4MB)\n",
      "\u001b[K    100% |████████████████████████████████| 29.4MB 23kB/s  eta 0:00:01\n",
      "\u001b[?25hBuilding wheels for collected packages: pocketsphinx\n",
      "  Running setup.py bdist_wheel for pocketsphinx ... \u001b[?25lerror\n",
      "  Complete output from command /opt/conda/bin/python -u -c \"import setuptools, tokenize;__file__='/tmp/pip-build-zfg84c7d/pocketsphinx/setup.py';f=getattr(tokenize, 'open', open)(__file__);code=f.read().replace('\\r\\n', '\\n');f.close();exec(compile(code, __file__, 'exec'))\" bdist_wheel -d /tmp/tmp863cze1opip-wheel- --python-tag cp36:\n",
      "  running bdist_wheel\n",
      "  running build_ext\n",
      "  building 'sphinxbase._ad' extension\n",
      "  swigging swig/sphinxbase/ad.i to swig/sphinxbase/ad_wrap.c\n",
      "  swig -python -modern -Ideps/sphinxbase/include -Ideps/sphinxbase/include/sphinxbase -Ideps/sphinxbase/include/android -Ideps/sphinxbase/swig -outdir sphinxbase -o swig/sphinxbase/ad_wrap.c swig/sphinxbase/ad.i\n",
      "  unable to execute 'swig': No such file or directory\n",
      "  error: command 'swig' failed with exit status 1\n",
      "  \n",
      "  ----------------------------------------\n",
      "\u001b[31m  Failed building wheel for pocketsphinx\u001b[0m\n",
      "\u001b[?25h  Running setup.py clean for pocketsphinx\n",
      "Failed to build pocketsphinx\n",
      "Installing collected packages: pocketsphinx\n",
      "  Running setup.py install for pocketsphinx ... \u001b[?25lerror\n",
      "    Complete output from command /opt/conda/bin/python -u -c \"import setuptools, tokenize;__file__='/tmp/pip-build-zfg84c7d/pocketsphinx/setup.py';f=getattr(tokenize, 'open', open)(__file__);code=f.read().replace('\\r\\n', '\\n');f.close();exec(compile(code, __file__, 'exec'))\" install --record /tmp/pip-nxyvs9ak-record/install-record.txt --single-version-externally-managed --compile:\n",
      "    running install\n",
      "    running build_ext\n",
      "    building 'sphinxbase._ad' extension\n",
      "    swigging swig/sphinxbase/ad.i to swig/sphinxbase/ad_wrap.c\n",
      "    swig -python -modern -Ideps/sphinxbase/include -Ideps/sphinxbase/include/sphinxbase -Ideps/sphinxbase/include/android -Ideps/sphinxbase/swig -outdir sphinxbase -o swig/sphinxbase/ad_wrap.c swig/sphinxbase/ad.i\n",
      "    unable to execute 'swig': No such file or directory\n",
      "    error: command 'swig' failed with exit status 1\n",
      "    \n",
      "    ----------------------------------------\n",
      "\u001b[31mCommand \"/opt/conda/bin/python -u -c \"import setuptools, tokenize;__file__='/tmp/pip-build-zfg84c7d/pocketsphinx/setup.py';f=getattr(tokenize, 'open', open)(__file__);code=f.read().replace('\\r\\n', '\\n');f.close();exec(compile(code, __file__, 'exec'))\" install --record /tmp/pip-nxyvs9ak-record/install-record.txt --single-version-externally-managed --compile\" failed with error code 1 in /tmp/pip-build-zfg84c7d/pocketsphinx/\u001b[0m\n",
      "\u001b[33mYou are using pip version 9.0.1, however version 10.0.1 is available.\n",
      "You should consider upgrading via the 'pip install --upgrade pip' command.\u001b[0m\n",
      "\u001b[?25h"
     ]
    },
    {
     "ename": "ModuleNotFoundError",
     "evalue": "No module named 'cmu_sphinx'",
     "output_type": "error",
     "traceback": [
      "\u001b[0;31m---------------------------------------------------------------------------\u001b[0m",
      "\u001b[0;31mModuleNotFoundError\u001b[0m                       Traceback (most recent call last)",
      "\u001b[0;32m<ipython-input-4-4d5e94a283e5>\u001b[0m in \u001b[0;36m<module>\u001b[0;34m()\u001b[0m\n\u001b[1;32m      1\u001b[0m \u001b[0mget_ipython\u001b[0m\u001b[0;34m(\u001b[0m\u001b[0;34m)\u001b[0m\u001b[0;34m.\u001b[0m\u001b[0msystem\u001b[0m\u001b[0;34m(\u001b[0m\u001b[0;34m'pip install pocketsphinx'\u001b[0m\u001b[0;34m)\u001b[0m\u001b[0;34m\u001b[0m\u001b[0m\n\u001b[1;32m      2\u001b[0m \u001b[0;34m\u001b[0m\u001b[0m\n\u001b[0;32m----> 3\u001b[0;31m \u001b[0;32mimport\u001b[0m \u001b[0mcmu_sphinx\u001b[0m\u001b[0;34m\u001b[0m\u001b[0m\n\u001b[0m\u001b[1;32m      4\u001b[0m \u001b[0maudio_URL\u001b[0m \u001b[0;34m=\u001b[0m \u001b[0;34m'https://archive.org/details/testmp3testfile'\u001b[0m\u001b[0;34m\u001b[0m\u001b[0m\n\u001b[1;32m      5\u001b[0m \u001b[0mtranscriber\u001b[0m\u001b[0;34m=\u001b[0m\u001b[0mcmu_sphinx\u001b[0m\u001b[0;34m.\u001b[0m\u001b[0mtranscriber\u001b[0m\u001b[0;34m(\u001b[0m\u001b[0maudio_URL\u001b[0m\u001b[0;34m)\u001b[0m\u001b[0;34m\u001b[0m\u001b[0m\n",
      "\u001b[0;31mModuleNotFoundError\u001b[0m: No module named 'cmu_sphinx'"
     ]
    }
   ],
   "source": []
  },
  {
   "cell_type": "code",
   "execution_count": null,
   "metadata": {},
   "outputs": [],
   "source": []
  }
 ],
 "metadata": {
  "kernelspec": {
   "display_name": "Python 3",
   "language": "python",
   "name": "python3"
  },
  "language_info": {
   "codemirror_mode": {
    "name": "ipython",
    "version": 3
   },
   "file_extension": ".py",
   "mimetype": "text/x-python",
   "name": "python",
   "nbconvert_exporter": "python",
   "pygments_lexer": "ipython3",
   "version": "3.6.4"
  }
 },
 "nbformat": 4,
 "nbformat_minor": 2
}
